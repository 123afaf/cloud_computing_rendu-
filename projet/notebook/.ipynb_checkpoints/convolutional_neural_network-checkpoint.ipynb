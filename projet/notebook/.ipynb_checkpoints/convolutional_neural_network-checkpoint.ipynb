{
 "cells": [
  {
   "cell_type": "markdown",
   "metadata": {
    "id": "3DR-eO17geWu"
   },
   "source": [
    "# Convolutional Neural Network\n"
   ]
  },
  {
   "cell_type": "markdown",
   "metadata": {
    "id": "EMefrVPCg-60"
   },
   "source": [
    "### Importing the libraries"
   ]
  },
  {
   "cell_type": "code",
   "execution_count": 1,
   "metadata": {
    "id": "sCV30xyVhFbE"
   },
   "outputs": [
    {
     "ename": "ModuleNotFoundError",
     "evalue": "No module named 'tensorflow'",
     "output_type": "error",
     "traceback": [
      "\u001b[0;31m---------------------------------------------------------------------------\u001b[0m",
      "\u001b[0;31mModuleNotFoundError\u001b[0m                       Traceback (most recent call last)",
      "Input \u001b[0;32mIn [1]\u001b[0m, in \u001b[0;36m<cell line: 1>\u001b[0;34m()\u001b[0m\n\u001b[0;32m----> 1\u001b[0m \u001b[38;5;28;01mimport\u001b[39;00m \u001b[38;5;21;01mtensorflow\u001b[39;00m \u001b[38;5;28;01mas\u001b[39;00m \u001b[38;5;21;01mtf\u001b[39;00m\n\u001b[1;32m      2\u001b[0m \u001b[38;5;28;01mfrom\u001b[39;00m \u001b[38;5;21;01mkeras\u001b[39;00m\u001b[38;5;21;01m.\u001b[39;00m\u001b[38;5;21;01mpreprocessing\u001b[39;00m\u001b[38;5;21;01m.\u001b[39;00m\u001b[38;5;21;01mimage\u001b[39;00m \u001b[38;5;28;01mimport\u001b[39;00m ImageDataGenerator\n\u001b[1;32m      3\u001b[0m \u001b[38;5;28;01mfrom\u001b[39;00m \u001b[38;5;21;01mgoogle\u001b[39;00m\u001b[38;5;21;01m.\u001b[39;00m\u001b[38;5;21;01mcolab\u001b[39;00m \u001b[38;5;28;01mimport\u001b[39;00m drive\n",
      "\u001b[0;31mModuleNotFoundError\u001b[0m: No module named 'tensorflow'"
     ]
    }
   ],
   "source": [
    "import tensorflow as tf\n",
    "from keras.preprocessing.image import ImageDataGenerator"
   ]
  },
  {
   "cell_type": "code",
   "execution_count": null,
   "metadata": {
    "colab": {
     "base_uri": "https://localhost:8080/",
     "height": 35
    },
    "executionInfo": {
     "elapsed": 264,
     "status": "ok",
     "timestamp": 1638068388848,
     "user": {
      "displayName": "Bilel Banelhaq",
      "photoUrl": "https://lh3.googleusercontent.com/a/default-user=s64",
      "userId": "18420378035463509078"
     },
     "user_tz": -60
    },
    "id": "FIleuCAjoFD8",
    "outputId": "f15b02d6-b098-4374-8729-a5a6d5cb67de"
   },
   "outputs": [
    {
     "data": {
      "application/vnd.google.colaboratory.intrinsic+json": {
       "type": "string"
      },
      "text/plain": [
       "'2.7.0'"
      ]
     },
     "execution_count": 2,
     "metadata": {},
     "output_type": "execute_result"
    }
   ],
   "source": [
    "tf.__version__"
   ]
  },
  {
   "cell_type": "markdown",
   "metadata": {
    "id": "oxQxCBWyoGPE"
   },
   "source": [
    "## Part 1 - Data Preprocessing"
   ]
  },
  {
   "cell_type": "markdown",
   "metadata": {
    "id": "MvE-heJNo3GG"
   },
   "source": [
    "### Preprocessing the Training set"
   ]
  },
  {
   "cell_type": "code",
   "execution_count": null,
   "metadata": {
    "colab": {
     "base_uri": "https://localhost:8080/"
    },
    "executionInfo": {
     "elapsed": 1199,
     "status": "ok",
     "timestamp": 1638071315881,
     "user": {
      "displayName": "Bilel Banelhaq",
      "photoUrl": "https://lh3.googleusercontent.com/a/default-user=s64",
      "userId": "18420378035463509078"
     },
     "user_tz": -60
    },
    "id": "0koUcJMJpEBD",
    "outputId": "a0c3c70a-eb5f-4d18-ee0a-f65b2cfe1a3c"
   },
   "outputs": [
    {
     "name": "stdout",
     "output_type": "stream",
     "text": [
      "Found 320 images belonging to 2 classes.\n"
     ]
    }
   ],
   "source": [
    "train_datagen = ImageDataGenerator(rescale = 1./255,\n",
    "                                   shear_range = 0.2,\n",
    "                                   zoom_range = 0.2,\n",
    "                                   horizontal_flip = True)\n",
    "training_set = train_datagen.flow_from_directory('/data/dataset/training',\n",
    "                                                 target_size = (64, 64),\n",
    "                                                 batch_size = 32,\n",
    "                                                 class_mode = 'binary')"
   ]
  },
  {
   "cell_type": "markdown",
   "metadata": {
    "id": "mrCMmGw9pHys"
   },
   "source": [
    "### Preprocessing the Test set"
   ]
  },
  {
   "cell_type": "code",
   "execution_count": null,
   "metadata": {
    "colab": {
     "base_uri": "https://localhost:8080/"
    },
    "executionInfo": {
     "elapsed": 619,
     "status": "ok",
     "timestamp": 1638071321229,
     "user": {
      "displayName": "Bilel Banelhaq",
      "photoUrl": "https://lh3.googleusercontent.com/a/default-user=s64",
      "userId": "18420378035463509078"
     },
     "user_tz": -60
    },
    "id": "SH4WzfOhpKc3",
    "outputId": "1a888b11-e375-4edb-cb39-8345271e795f"
   },
   "outputs": [
    {
     "name": "stdout",
     "output_type": "stream",
     "text": [
      "Found 80 images belonging to 2 classes.\n"
     ]
    }
   ],
   "source": [
    "test_datagen = ImageDataGenerator(rescale = 1./255)\n",
    "test_set = test_datagen.flow_from_directory('/data/dataset/test',\n",
    "                                            target_size = (64, 64),\n",
    "                                            batch_size = 32,\n",
    "                                            class_mode = 'binary')"
   ]
  },
  {
   "cell_type": "markdown",
   "metadata": {
    "id": "af8O4l90gk7B"
   },
   "source": [
    "## Part 2 - Building the CNN"
   ]
  },
  {
   "cell_type": "markdown",
   "metadata": {
    "id": "ces1gXY2lmoX"
   },
   "source": [
    "### Initialising the CNN"
   ]
  },
  {
   "cell_type": "code",
   "execution_count": null,
   "metadata": {
    "id": "SAUt4UMPlhLS"
   },
   "outputs": [],
   "source": [
    "cnn = tf.keras.models.Sequential()"
   ]
  },
  {
   "cell_type": "markdown",
   "metadata": {
    "id": "u5YJj_XMl5LF"
   },
   "source": [
    "### Step 1 - Convolution"
   ]
  },
  {
   "cell_type": "code",
   "execution_count": null,
   "metadata": {
    "id": "XPzPrMckl-hV"
   },
   "outputs": [],
   "source": [
    "cnn.add(tf.keras.layers.Conv2D(filters=32, kernel_size=3, activation='relu', input_shape=[64, 64, 3]))"
   ]
  },
  {
   "cell_type": "markdown",
   "metadata": {
    "id": "tf87FpvxmNOJ"
   },
   "source": [
    "### Step 2 - Pooling"
   ]
  },
  {
   "cell_type": "code",
   "execution_count": null,
   "metadata": {
    "id": "ncpqPl69mOac"
   },
   "outputs": [],
   "source": [
    "cnn.add(tf.keras.layers.MaxPool2D(pool_size=2, strides=2))"
   ]
  },
  {
   "cell_type": "markdown",
   "metadata": {
    "id": "xaTOgD8rm4mU"
   },
   "source": [
    "### Adding a second convolutional layer"
   ]
  },
  {
   "cell_type": "code",
   "execution_count": null,
   "metadata": {
    "id": "i_-FZjn_m8gk"
   },
   "outputs": [],
   "source": [
    "cnn.add(tf.keras.layers.Conv2D(filters=32, kernel_size=3, activation='relu'))\n",
    "cnn.add(tf.keras.layers.MaxPool2D(pool_size=2, strides=2))"
   ]
  },
  {
   "cell_type": "markdown",
   "metadata": {
    "id": "tmiEuvTunKfk"
   },
   "source": [
    "### Step 3 - Flattening"
   ]
  },
  {
   "cell_type": "code",
   "execution_count": null,
   "metadata": {
    "id": "6AZeOGCvnNZn"
   },
   "outputs": [],
   "source": [
    "cnn.add(tf.keras.layers.Flatten())"
   ]
  },
  {
   "cell_type": "markdown",
   "metadata": {
    "id": "dAoSECOm203v"
   },
   "source": [
    "### Step 4 - Full Connection"
   ]
  },
  {
   "cell_type": "code",
   "execution_count": null,
   "metadata": {
    "id": "8GtmUlLd26Nq"
   },
   "outputs": [],
   "source": [
    "cnn.add(tf.keras.layers.Dense(units=128, activation='relu'))"
   ]
  },
  {
   "cell_type": "markdown",
   "metadata": {
    "id": "yTldFvbX28Na"
   },
   "source": [
    "### Step 5 - Output Layer"
   ]
  },
  {
   "cell_type": "code",
   "execution_count": null,
   "metadata": {
    "id": "1p_Zj1Mc3Ko_"
   },
   "outputs": [],
   "source": [
    "cnn.add(tf.keras.layers.Dense(units=1, activation='sigmoid'))"
   ]
  },
  {
   "cell_type": "markdown",
   "metadata": {
    "id": "D6XkI90snSDl"
   },
   "source": [
    "## Part 3 - Training the CNN"
   ]
  },
  {
   "cell_type": "markdown",
   "metadata": {
    "id": "vfrFQACEnc6i"
   },
   "source": [
    "### Compiling the CNN"
   ]
  },
  {
   "cell_type": "code",
   "execution_count": null,
   "metadata": {
    "id": "NALksrNQpUlJ"
   },
   "outputs": [],
   "source": [
    "cnn.compile(optimizer = 'adam', loss = 'binary_crossentropy', metrics = ['accuracy'])"
   ]
  },
  {
   "cell_type": "markdown",
   "metadata": {
    "id": "ehS-v3MIpX2h"
   },
   "source": [
    "### Training the CNN on the Training set and evaluating it on the Test set"
   ]
  },
  {
   "cell_type": "code",
   "execution_count": null,
   "metadata": {
    "colab": {
     "base_uri": "https://localhost:8080/"
    },
    "executionInfo": {
     "elapsed": 1786109,
     "status": "ok",
     "timestamp": 1638073141372,
     "user": {
      "displayName": "Bilel Banelhaq",
      "photoUrl": "https://lh3.googleusercontent.com/a/default-user=s64",
      "userId": "18420378035463509078"
     },
     "user_tz": -60
    },
    "id": "XUj1W4PJptta",
    "outputId": "0399bc38-f300-4fba-a472-921b6a6f7719"
   },
   "outputs": [
    {
     "name": "stdout",
     "output_type": "stream",
     "text": [
      "Epoch 1/25\n",
      "10/10 [==============================] - 240s 24s/step - loss: 0.6266 - accuracy: 0.6938 - val_loss: 0.6083 - val_accuracy: 0.7500\n",
      "Epoch 2/25\n",
      "10/10 [==============================] - 42s 4s/step - loss: 0.5976 - accuracy: 0.7500 - val_loss: 0.6018 - val_accuracy: 0.7500\n",
      "Epoch 3/25\n",
      "10/10 [==============================] - 41s 4s/step - loss: 0.5706 - accuracy: 0.7500 - val_loss: 0.5451 - val_accuracy: 0.7500\n",
      "Epoch 4/25\n",
      "10/10 [==============================] - 41s 4s/step - loss: 0.5363 - accuracy: 0.7500 - val_loss: 0.5034 - val_accuracy: 0.7500\n",
      "Epoch 5/25\n",
      "10/10 [==============================] - 42s 4s/step - loss: 0.5005 - accuracy: 0.7625 - val_loss: 0.4588 - val_accuracy: 0.7875\n",
      "Epoch 6/25\n",
      "10/10 [==============================] - 41s 4s/step - loss: 0.4758 - accuracy: 0.7875 - val_loss: 0.4218 - val_accuracy: 0.8500\n",
      "Epoch 7/25\n",
      "10/10 [==============================] - 41s 4s/step - loss: 0.4811 - accuracy: 0.8094 - val_loss: 0.4219 - val_accuracy: 0.8750\n",
      "Epoch 8/25\n",
      "10/10 [==============================] - 41s 4s/step - loss: 0.4697 - accuracy: 0.8156 - val_loss: 0.4854 - val_accuracy: 0.8000\n",
      "Epoch 9/25\n",
      "10/10 [==============================] - 44s 4s/step - loss: 0.4494 - accuracy: 0.8031 - val_loss: 0.4122 - val_accuracy: 0.8250\n",
      "Epoch 10/25\n",
      "10/10 [==============================] - 42s 4s/step - loss: 0.4295 - accuracy: 0.8281 - val_loss: 0.4151 - val_accuracy: 0.8250\n",
      "Epoch 11/25\n",
      "10/10 [==============================] - 42s 4s/step - loss: 0.4235 - accuracy: 0.8094 - val_loss: 0.4170 - val_accuracy: 0.8250\n",
      "Epoch 12/25\n",
      "10/10 [==============================] - 42s 4s/step - loss: 0.4170 - accuracy: 0.8219 - val_loss: 0.3928 - val_accuracy: 0.8625\n",
      "Epoch 13/25\n",
      "10/10 [==============================] - 42s 4s/step - loss: 0.4493 - accuracy: 0.8094 - val_loss: 0.3762 - val_accuracy: 0.8875\n",
      "Epoch 14/25\n",
      "10/10 [==============================] - 42s 4s/step - loss: 0.4182 - accuracy: 0.8188 - val_loss: 0.4035 - val_accuracy: 0.8750\n",
      "Epoch 15/25\n",
      "10/10 [==============================] - 42s 4s/step - loss: 0.3982 - accuracy: 0.8562 - val_loss: 0.3693 - val_accuracy: 0.8875\n",
      "Epoch 16/25\n",
      "10/10 [==============================] - 42s 4s/step - loss: 0.3845 - accuracy: 0.8531 - val_loss: 0.3744 - val_accuracy: 0.8625\n",
      "Epoch 17/25\n",
      "10/10 [==============================] - 42s 4s/step - loss: 0.3685 - accuracy: 0.8562 - val_loss: 0.4220 - val_accuracy: 0.8250\n",
      "Epoch 18/25\n",
      "10/10 [==============================] - 42s 4s/step - loss: 0.4163 - accuracy: 0.8094 - val_loss: 0.4296 - val_accuracy: 0.8250\n",
      "Epoch 19/25\n",
      "10/10 [==============================] - 42s 4s/step - loss: 0.3930 - accuracy: 0.8250 - val_loss: 0.4464 - val_accuracy: 0.8250\n",
      "Epoch 20/25\n",
      "10/10 [==============================] - 42s 4s/step - loss: 0.3808 - accuracy: 0.8250 - val_loss: 0.3848 - val_accuracy: 0.8500\n",
      "Epoch 21/25\n",
      "10/10 [==============================] - 42s 4s/step - loss: 0.3976 - accuracy: 0.8281 - val_loss: 0.4001 - val_accuracy: 0.8500\n",
      "Epoch 22/25\n",
      "10/10 [==============================] - 42s 4s/step - loss: 0.3786 - accuracy: 0.8438 - val_loss: 0.3410 - val_accuracy: 0.8625\n",
      "Epoch 23/25\n",
      "10/10 [==============================] - 42s 4s/step - loss: 0.3475 - accuracy: 0.8625 - val_loss: 0.3361 - val_accuracy: 0.8875\n",
      "Epoch 24/25\n",
      "10/10 [==============================] - 41s 4s/step - loss: 0.3507 - accuracy: 0.8375 - val_loss: 0.3627 - val_accuracy: 0.8750\n",
      "Epoch 25/25\n",
      "10/10 [==============================] - 42s 4s/step - loss: 0.3516 - accuracy: 0.8438 - val_loss: 0.3522 - val_accuracy: 0.8625\n"
     ]
    },
    {
     "data": {
      "text/plain": [
       "<keras.callbacks.History at 0x7f8ca3c0b190>"
      ]
     },
     "execution_count": 34,
     "metadata": {},
     "output_type": "execute_result"
    }
   ],
   "source": [
    "cnn.fit(x = training_set, validation_data = test_set, epochs = 25)"
   ]
  },
  {
   "cell_type": "markdown",
   "metadata": {
    "id": "U3PZasO0006Z"
   },
   "source": [
    "## Part 4 - Making a single prediction"
   ]
  },
  {
   "cell_type": "code",
   "execution_count": null,
   "metadata": {
    "id": "gsSiWEJY1BPB"
   },
   "outputs": [],
   "source": [
    "import numpy as np\n",
    "from keras.preprocessing import image\n",
    "test_image = image.load_img('/data/dataset/single_prediction/prediction_4.png', target_size = (64, 64))\n",
    "test_image = image.img_to_array(test_image)\n",
    "test_image = np.expand_dims(test_image, axis = 0)\n",
    "result = cnn.predict(test_image)\n",
    "training_set.class_indices\n",
    "if result[0][0] == 1:\n",
    "  prediction = 'normal'\n",
    "else:\n",
    "  prediction = 'cataract'"
   ]
  },
  {
   "cell_type": "code",
   "execution_count": null,
   "metadata": {
    "colab": {
     "base_uri": "https://localhost:8080/"
    },
    "executionInfo": {
     "elapsed": 237,
     "status": "ok",
     "timestamp": 1638073745505,
     "user": {
      "displayName": "Bilel Banelhaq",
      "photoUrl": "https://lh3.googleusercontent.com/a/default-user=s64",
      "userId": "18420378035463509078"
     },
     "user_tz": -60
    },
    "id": "ED9KB3I54c1i",
    "outputId": "1962c2e4-4f26-4d17-eece-25242fd5def1"
   },
   "outputs": [
    {
     "name": "stdout",
     "output_type": "stream",
     "text": [
      "cataract\n"
     ]
    }
   ],
   "source": [
    "print(prediction)"
   ]
  }
 ],
 "metadata": {
  "colab": {
   "collapsed_sections": [],
   "name": "convolutional_neural_network.ipynb",
   "provenance": []
  },
  "kernelspec": {
   "display_name": "Python 3 (ipykernel)",
   "language": "python",
   "name": "python3"
  },
  "language_info": {
   "codemirror_mode": {
    "name": "ipython",
    "version": 3
   },
   "file_extension": ".py",
   "mimetype": "text/x-python",
   "name": "python",
   "nbconvert_exporter": "python",
   "pygments_lexer": "ipython3",
   "version": "3.9.10"
  }
 },
 "nbformat": 4,
 "nbformat_minor": 4
}
